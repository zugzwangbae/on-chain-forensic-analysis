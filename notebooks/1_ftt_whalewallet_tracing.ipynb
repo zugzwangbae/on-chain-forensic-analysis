# Cell 1: Import and Setup
import pandas as pd
import matplotlib.pyplot as plt
import seaborn as sns
from src.data_fetcher import BlockchainDataFetcher
from src.visualizer import plot_timeseries_volume  # We'd create this function

sns.set_style("whitegrid") # Professional plotting style
%matplotlib inline

# Cell 2: Initialize and Fetch Data
print("🔍 Initializing Blockchain Data Fetcher...")
fetcher = BlockchainDataFetcher()

# This is a known wallet that received funds from FTX pre-collapse
# (You would find this from public reports on Arkham/TokenAnalyst)
target_wallet = "0x2faf487a4414fe77e2327f0bf4ae2a264a776ad2"

print(f"📥 Fetching transactions for wallet: {target_wallet}")
txs_df = fetcher.get_etherscan_transactions(target_wallet, sort='desc')

print(f"✅ Retrieved {len(txs_df)} transactions.")
txs_df.head(2)

# Cell 3: Initial Data Exploration
print(f"Date Range of Transactions: {txs_df['timeStamp'].min()} to {txs_df['timeStamp'].max()}")
print(f"Total ETH Volume Transferred: {txs_df['value'].sum():.2f} ETH")

# Filter for only OUTGOING transactions from this wallet
outgoing_txs = txs_df[txs_df['from'] == target_wallet.lower()]

# Group by the recipient ('to' address) to find the biggest counter-parties
top_recipients = outgoing_txs.groupby('to')['value'].sum().sort_values(ascending=False).head(10)

print("Top 10 Recipients (by ETH volume):")
print(top_recipients)

# Plotting
plt.figure(figsize=(12, 6))
top_recipients.plot(kind='bar')
plt.title('Top 10 Recipients of ETH from Target Wallet')
plt.ylabel('ETH Volume')
plt.xticks(rotation=45)
plt.tight_layout()
plt.show()
