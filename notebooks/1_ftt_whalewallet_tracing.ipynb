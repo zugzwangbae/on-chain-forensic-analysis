# Cell 1: Import and Setup
import pandas as pd
import matplotlib.pyplot as plt
import seaborn as sns
from src.data_fetcher import BlockchainDataFetcher
from src.visualizer import plot_timeseries_volume  # We'd create this function

sns.set_style("whitegrid") # Professional plotting style
%matplotlib inline
